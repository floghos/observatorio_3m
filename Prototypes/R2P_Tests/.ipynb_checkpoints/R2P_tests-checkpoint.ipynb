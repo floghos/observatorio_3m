{
 "cells": [
  {
   "cell_type": "markdown",
   "id": "902327d6",
   "metadata": {},
   "source": [
    "# Confirmed Working Commands form Rot2Prog Protocol\n",
    "\n",
    "* GET_ANGLES    => b'\\x57\\x00\\x00\\x00\\x00\\x00\\x00\\x00\\x00\\x00\\x00\\x1f\\x20'\n",
    "    - Returns 12 Bytes encoding current rotor position\n",
    "* STOP          => b'\\x57\\x00\\x00\\x00\\x00\\x00\\x00\\x00\\x00\\x00\\x00\\x0f\\x20' \n",
    "    - Returns 12 Bytes encoding current rotor position\n",
    "* GET_SOFT_HARD => b'\\x57\\x00\\x00\\x00\\x00\\x00\\x00\\x00\\x00\\x00\\x00\\xa1\\x20'\n",
    "    - Returns 12 Bytes encoding soft Start/Stop setting of each motor. The 6th and 10th Byte hold this info\n",
    "    - sstHard = 0; sstSoft = 1\n",
    "* SET_ANGLES    => b'\\x57\\x34\\x32\\x30\\x35\\x0a\\x34\\x31\\x30\\x31\\x0a\\x2f\\x20'\n",
    "    - Returns 12 Bytes encoding rotor position before starting the movement.\n",
    "    - The example shown has parameters included for setting the angle to az:60.5 & el:50.1\n",
    "    - Bytes 1-4 (indexing from 0) hold the angle for az, Bytes 6-9 hold angle for el.\n",
    "    - Bytes 5 and 10 represent the divisor. Not sure how to use it so just leave it at 10 (0x0a).\n",
    "    \n",
    "* CMD_POWER     => b'\\x57\\x00\\x00\\x00\\x00\\x0a\\x00\\x00\\x00\\x00\\x42\\xf7\\x20'\n",
    "    - Returns 5 Bytes: ['0x57', '0x03', '0x06', '0x00', '0x20']\n",
    "    - Documentation says it should return rotor position.\n",
    "    \n",
    "> Note: sending one of the non-confirmed commands seems to lock up any further response from the rotor controller. To restore communication just restart the controller. Closing the serial port is not necesarry.\n",
    "\n",
    "> Hypothesis: The commands being tested are those listed on the documentation for Rot2Prog version 2.1. It is possible that the current firmware version of our MD-02 controller works with a different (and presumably older) version of this protocol.\n"
   ]
  },
  {
   "cell_type": "code",
   "execution_count": 4,
   "id": "b3806c6d",
   "metadata": {},
   "outputs": [],
   "source": [
    "import serial\n",
    "ser = serial.Serial('COM6', 9600, timeout=0.5)"
   ]
  },
  {
   "cell_type": "code",
   "execution_count": 41,
   "id": "c8efbc9d",
   "metadata": {},
   "outputs": [],
   "source": [
    "def decode_pos(byte_arr):\n",
    "    # byte_arr contains the current position of the rotor. Azimuth then Elevation\n",
    "    # The response array looks like this:\n",
    "    # arr = b'\\x57\\x04\\x01\\x00\\x03\\x0A\\x04\\x03\\x01\\x07\\x0A'\n",
    "    # Each byte can be accessed as if it was part of an array (e.g arr[0]=0x57, arr[3]=0x00 )\n",
    "    # First byte should always be 0x57\n",
    "    # Next 4 bytes represent the azimuth, converted as follows:\n",
    "    a = byte_arr[1]\n",
    "    b = byte_arr[2]\n",
    "    c = byte_arr[3]\n",
    "    d = byte_arr[4]\n",
    "    \n",
    "    # 6th byte (byte_arr[5]) should play a part when decoding if its different than '0x0A', but  I haven't faced such a case yet\n",
    "    # for now I'll just ignore it...\n",
    "    # div1 = byte_arr[5]\n",
    "\n",
    "    e = byte_arr[6]\n",
    "    f = byte_arr[7]\n",
    "    g = byte_arr[8]\n",
    "    h = byte_arr[9]\n",
    "    # div2 = byte_arr[10]\n",
    "    \n",
    "    az = round((a*100 + b*10 + c + d*0.1 - 360), 1)\n",
    "    el = round((e*100 + f*10 + g + h*0.1 - 360), 1)\n",
    "    \n",
    "    return (az, el)\n",
    "\n",
    "def encode_pos(az, el):\n",
    "    az = int(round(az, 1) * 10 + 3600)\n",
    "    el = int(round(el, 1) * 10 + 3600)\n",
    "    #print(az, el)\n",
    "    cmd = f'W{az}\\n{el}\\n/ '\n",
    "    return cmd.encode('UTF-8')\n",
    "\n",
    "def encode_pos_100(az, el):\n",
    "    az = int(round(az, 2) * 100 + 36000)\n",
    "    el = int(round(el, 2) * 100 + 36000)\n",
    "    cmd = f'W{az}{el}/ '\n",
    "    return cmd.encode('UTF-8')\n",
    "\n",
    "def set_pwr(m1, m2):\n",
    "    m1 = min(m1, 100)\n",
    "    m1 = max(m1, 0)\n",
    "    m2 = min(m2, 100)\n",
    "    m2 = max(m2, 0)\n",
    "    return bytearray([0x57, 0, 0, 0, 0, m1, 0, 0, 0, 0, m2, 0xf7, 0x20])\n",
    "    "
   ]
  },
  {
   "cell_type": "code",
   "execution_count": 88,
   "id": "d8df154d",
   "metadata": {},
   "outputs": [
    {
     "data": {
      "text/plain": [
       "13"
      ]
     },
     "execution_count": 88,
     "metadata": {},
     "output_type": "execute_result"
    }
   ],
   "source": [
    "# Manual command testing\n",
    "ser.reset_input_buffer()\n",
    "ser.reset_output_buffer()\n",
    "# cmd_cfg_get = b'\\x57\\x02\\x00\\x00\\x00\\x00\\x00\\x00\\x00\\x00\\x00\\xef\\x20' # CFG_GET; no work\n",
    "# get_ang_100 = b'\\x57\\x00\\x00\\x00\\x00\\x00\\x00\\x00\\x00\\x00\\x00\\x6f\\x20' # GET_ANGLES_100; no work\n",
    "cmd_get_ang = b'\\x57\\x00\\x00\\x00\\x00\\x00\\x00\\x00\\x00\\x00\\x00\\x1f\\x20' # GET_ANGLES; works\n",
    "cmd_stop    = b'\\x57\\x00\\x00\\x00\\x00\\x00\\x00\\x00\\x00\\x00\\x00\\x0f\\x20' # STOP; works\n",
    "get_sft_hrd = b'\\x57\\x00\\x00\\x00\\x00\\x00\\x00\\x00\\x00\\x00\\x00\\xa1\\x20' # GET_SOFT_HARD; works\n",
    "cmd_set_ang = b'\\x57\\x34\\x32\\x30\\x35\\x0a\\x34\\x31\\x30\\x31\\x0a\\x2f\\x20' # SET_ANGLES (to az:60.5 el:50.1); works (with issues*)\n",
    "# *Counter Clockwise movement appears to work correctly, however Clockwise movement is interrupted seemingly randomly, \n",
    "# needing to issue the command several times in order to complete certain movements (e.g. from az 0.3 to 60.5) \n",
    "\n",
    "cmd_power = b'\\x57\\x00\\x00\\x00\\x00\\x0a\\x00\\x00\\x00\\x00\\x42\\xf7\\x20' # CMD_POWER (M1 to 77% (0x4d), M2 to 66% (0x42)); works\n",
    "set_ang_100 = b'\\x57\\x33\\x36\\x35\\x35\\x34\\x33\\x37\\x30\\x30\\x35\\x5f\\x20' # SET_ANGLES_100 (to az:5.54 el:10.05); no work\n",
    "\n",
    "power_test = set_pwr(80,100)\n",
    "az_mov_test = encode_pos(0, 50.1)\n",
    "ser.write(az_mov_test)"
   ]
  },
  {
   "cell_type": "code",
   "execution_count": 87,
   "id": "2138419e",
   "metadata": {},
   "outputs": [
    {
     "name": "stdout",
     "output_type": "stream",
     "text": [
      "89\n",
      "88\n",
      "87\n",
      "86\n",
      "85\n",
      "84\n",
      "83\n",
      "82\n",
      "81\n",
      "80\n"
     ]
    }
   ],
   "source": [
    "import time\n",
    "\n",
    "# Gradual power change\n",
    "starting_pwr = 89\n",
    "for i in range(10):\n",
    "    time.sleep(1)\n",
    "    next_val = starting_pwr - i\n",
    "    ser.write(set_pwr(next_val, 100))\n",
    "    print(next_val)"
   ]
  },
  {
   "cell_type": "code",
   "execution_count": 89,
   "id": "9bea7295",
   "metadata": {},
   "outputs": [],
   "source": [
    "# Reading response using readline()\n",
    "# The GET_ANGLES command's response is interpreted as 2 lines, so I use readline() twice\n",
    "response1 = ser.readline()\n",
    "response2 = ser.readline()\n",
    "response = response1 + response2\n",
    "\n",
    "# I split the bytes as a list just to print their real values, \n",
    "# otherwise, some Bytes get interpreted as their UTF-8 encoding value, \n",
    "# such as 0x09 being printed as '\\xt' or 0x0A as '' \n",
    "r = ['0x{:02X}'.format(x) for x in list(response)]\n",
    "#print(f\"Response Byte list: {r}\")\n",
    "\n",
    "if len(r) == 11:\n",
    "    r_decoded = decode_pos(response)\n",
    "    print(r_decoded)"
   ]
  },
  {
   "cell_type": "code",
   "execution_count": 69,
   "id": "fb960b36",
   "metadata": {},
   "outputs": [
    {
     "name": "stdout",
     "output_type": "stream",
     "text": [
      "['0x57']\n",
      "['0x03']\n",
      "['0x06']\n",
      "['0x00']\n",
      "['0x20']\n",
      "[]\n",
      "[]\n",
      "[]\n",
      "[]\n",
      "[]\n",
      "[]\n",
      "[]\n"
     ]
    }
   ],
   "source": [
    "# Reading response byte by byte, assuming a 12 byte response\n",
    "for i in range(12):\n",
    "    response_byte = ser.read()\n",
    "    response_byte = ['0x{:02X}'.format(x) for x in list(response_byte)]\n",
    "    print(response_byte)"
   ]
  },
  {
   "cell_type": "code",
   "execution_count": 25,
   "id": "853dbb3b",
   "metadata": {},
   "outputs": [
    {
     "name": "stdout",
     "output_type": "stream",
     "text": [
      "b'.'\n",
      "b'W\\x00\\x00\\x00\\x00M\\x00\\x00\\x00\\x00B\\xf7 '\n"
     ]
    },
    {
     "data": {
      "text/plain": [
       "bytearray(b'W\\n\\x0fB')"
      ]
     },
     "execution_count": 25,
     "metadata": {},
     "output_type": "execute_result"
    }
   ],
   "source": [
    "# byte encoding/decoding tests\n",
    "#c = b'\\x00\\x00\\x10\\x00'\n",
    "#c = ['0x{:02X}'.format(x) for x in list(c)]\n",
    "c = b'\\x2E'\n",
    "print(c)\n",
    "#x = int.from_bytes(c, 'big')\n",
    "#print(x + 1)\n",
    "\n",
    "\n",
    "test = b'\\x57\\x00\\x00\\x00\\x00\\x4d\\x00\\x00\\x00\\x00\\x42\\xf7\\x20'\n",
    "test_2 = b'W3603\\n4101\\n/ '\n",
    "x = 3603\n",
    "y = 4101\n",
    "z = 66\n",
    "test_3 = f'W{x}\\n{y}\\n/ '.encode('UTF-8')\n",
    "#test_4 = encode_pos(0.3, 50.1)\n",
    "#print(test == test_4)\n",
    "#test_2b = ['0x{:02X}'.format(x) for x in list(test_2)]\n",
    "print(test)\n",
    "#print(test_2b)\n",
    "\n",
    "bytearray([0x57, 10, 15, z])\n"
   ]
  },
  {
   "cell_type": "code",
   "execution_count": 4,
   "id": "065abdfe",
   "metadata": {},
   "outputs": [
    {
     "name": "stdout",
     "output_type": "stream",
     "text": [
      "Response: b' '\n"
     ]
    }
   ],
   "source": [
    "response = ser.readline()\n",
    "print(f\"Response: {response}\")"
   ]
  },
  {
   "cell_type": "code",
   "execution_count": 90,
   "id": "14bd5965",
   "metadata": {},
   "outputs": [],
   "source": [
    "ser.close()"
   ]
  }
 ],
 "metadata": {
  "kernelspec": {
   "display_name": "Python 3 (ipykernel)",
   "language": "python",
   "name": "python3"
  },
  "language_info": {
   "codemirror_mode": {
    "name": "ipython",
    "version": 3
   },
   "file_extension": ".py",
   "mimetype": "text/x-python",
   "name": "python",
   "nbconvert_exporter": "python",
   "pygments_lexer": "ipython3",
   "version": "3.9.16"
  }
 },
 "nbformat": 4,
 "nbformat_minor": 5
}
