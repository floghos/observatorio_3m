{
 "cells": [
  {
   "cell_type": "markdown",
   "id": "4e750c58",
   "metadata": {},
   "source": [
    "# YAESU GS232 Protocol\n",
    "## List of commands confirmed to work with the SPID MD-02  alt&el rotator controller\n",
    "\n",
    "* C        : Return the current azimuth angle in the form \"+0nnn\" degrees\n",
    "* B        : Return the current elevation angle in the form \"+0nnn\" degrees\n",
    "* C2       : Return the current azimuth and elevation in the form \"AZ=aaa EL=eee\"\n",
    "* Waaa eee : Move the rotor to the specified altitude (aaa) and elevation (eee) in degrees.\n",
    "             Note that the given angles MUST be 3 digits long, prepending 0s if necessary (e.g. W005 035). \n",
    "* S        : Stops any ongoing command\n",
    "    \n",
    "    \n"
   ]
  },
  {
   "cell_type": "code",
   "execution_count": 3,
   "id": "81075993",
   "metadata": {},
   "outputs": [],
   "source": [
    "import serial\n",
    "\n",
    "ser = serial.Serial('COM3', 9600, timeout=5)"
   ]
  },
  {
   "cell_type": "code",
   "execution_count": 55,
   "id": "cbc1acc0",
   "metadata": {},
   "outputs": [
    {
     "data": {
      "text/plain": [
       "3"
      ]
     },
     "execution_count": 55,
     "metadata": {},
     "output_type": "execute_result"
    }
   ],
   "source": [
    "# Writing any commands to the controller always seem to return a response, which should be cleared from the buffer \n",
    "# before issuing the next   \n",
    "ser.reset_input_buffer()\n",
    "ser.write(b'H\\r\\n')"
   ]
  },
  {
   "cell_type": "code",
   "execution_count": 6,
   "id": "378870d2",
   "metadata": {},
   "outputs": [
    {
     "name": "stdout",
     "output_type": "stream",
     "text": [
      "Response: \n"
     ]
    }
   ],
   "source": [
    "response = ser.readline().decode().strip()\n",
    "print(f\"Response: {response}\")"
   ]
  },
  {
   "cell_type": "code",
   "execution_count": 18,
   "id": "54f17b29",
   "metadata": {},
   "outputs": [
    {
     "data": {
      "text/plain": [
       "'53'"
      ]
     },
     "execution_count": 18,
     "metadata": {},
     "output_type": "execute_result"
    }
   ],
   "source": [
    "'S'.encode('UTF-8').hex()"
   ]
  },
  {
   "cell_type": "code",
   "execution_count": 10,
   "id": "8f31a60f",
   "metadata": {},
   "outputs": [
    {
     "data": {
      "text/plain": [
       "10"
      ]
     },
     "execution_count": 10,
     "metadata": {},
     "output_type": "execute_result"
    }
   ],
   "source": [
    "# Writing any commands to the controller always seem to return a response, which should be cleared from the buffer \n",
    "# before issuing the next   \n",
    "ser.reset_input_buffer()\n",
    "# The output of the serial.write() method is an integer representing the number of bytes written to the serial port\n",
    "ser.write(b'W040 070\\r\\n')"
   ]
  },
  {
   "cell_type": "code",
   "execution_count": 39,
   "id": "f5857be1",
   "metadata": {},
   "outputs": [
    {
     "data": {
      "text/plain": [
       "3"
      ]
     },
     "execution_count": 39,
     "metadata": {},
     "output_type": "execute_result"
    }
   ],
   "source": [
    "# Stop any ongoing commands\n",
    "ser.write(b'S\\r\\n')\n"
   ]
  },
  {
   "cell_type": "code",
   "execution_count": 40,
   "id": "bee75322",
   "metadata": {},
   "outputs": [
    {
     "name": "stdout",
     "output_type": "stream",
     "text": [
      "Current position: AZ=040 EL=070\n"
     ]
    }
   ],
   "source": [
    "ser.reset_input_buffer()\n",
    "# Reading the current position of the rotator\n",
    "ser.write(b'C2\\r\\n')\n",
    "response = ser.readline().decode().strip()\n",
    "print(f\"Current position: {response}\")"
   ]
  },
  {
   "cell_type": "code",
   "execution_count": 13,
   "id": "5d94e30a",
   "metadata": {},
   "outputs": [
    {
     "name": "stdout",
     "output_type": "stream",
     "text": [
      "Current position: \n"
     ]
    }
   ],
   "source": [
    "response = ser.readline().decode().strip()\n",
    "print(f\"Current position: {response}\")"
   ]
  },
  {
   "cell_type": "code",
   "execution_count": 14,
   "id": "92a9af2a",
   "metadata": {},
   "outputs": [],
   "source": [
    "# Closing the serial connection\n",
    "ser.close()"
   ]
  },
  {
   "cell_type": "code",
   "execution_count": null,
   "id": "2693ac10",
   "metadata": {},
   "outputs": [],
   "source": []
  },
  {
   "cell_type": "code",
   "execution_count": null,
   "id": "84ef7804",
   "metadata": {},
   "outputs": [],
   "source": []
  }
 ],
 "metadata": {
  "kernelspec": {
   "display_name": "Python 3 (ipykernel)",
   "language": "python",
   "name": "python3"
  },
  "language_info": {
   "codemirror_mode": {
    "name": "ipython",
    "version": 3
   },
   "file_extension": ".py",
   "mimetype": "text/x-python",
   "name": "python",
   "nbconvert_exporter": "python",
   "pygments_lexer": "ipython3",
   "version": "3.9.16"
  }
 },
 "nbformat": 4,
 "nbformat_minor": 5
}
