{
 "cells": [
  {
   "cell_type": "markdown",
   "id": "4e750c58",
   "metadata": {},
   "source": [
    "# YAESU GS232 Protocol\n",
    "## List of commands confirmed to work with the SPID MD-02  alt&el rotator controller\n",
    "\n",
    "As of 3/28/2023 these still work:\n",
    "* Waaa eee : Move the rotor to the specified altitude (aaa) and elevation (eee) in degrees.\n",
    "             Note that the given angles MUST be 3 digits long, prepending 0s if necessary (e.g. W005 035). \n",
    "* S        : Stops any ongoing command\n",
    "\n",
    "* C        : Return the current azimuth angle in the form \"+0nnn\" degrees. Can be executed during rotor movement.\n",
    "* B        : Return the current elevation angle in the form \"+0nnn\" degrees. Can be executed during rotor movement.\n",
    "* C2       : Return the current azimuth and elevation in the form \"AZ=aaa EL=eee\". Can be executed during rotor movement.\n",
    "\n",
    "> Note: If commands that prompt a response (like C, B, C2 or a W without parameters) stop prompting said response, try recommecting the serial cable. \n",
    "    \n"
   ]
  },
  {
   "cell_type": "code",
   "execution_count": 1,
   "id": "81075993",
   "metadata": {},
   "outputs": [],
   "source": [
    "import serial\n",
    "import time\n",
    "\n",
    "ser = serial.Serial('COM6', 9600, timeout=2)"
   ]
  },
  {
   "cell_type": "code",
   "execution_count": 18,
   "id": "d5c707ae",
   "metadata": {},
   "outputs": [
    {
     "data": {
      "text/plain": [
       "4"
      ]
     },
     "execution_count": 18,
     "metadata": {},
     "output_type": "execute_result"
    }
   ],
   "source": [
    "# Writing any commands to the controller always seem to return a response, which should be cleared from the buffer before issuing the next\n",
    "ser.reset_input_buffer()\n",
    "ser.write(b'H2\\r\\n')"
   ]
  },
  {
   "cell_type": "code",
   "execution_count": 19,
   "id": "565bb2f4",
   "metadata": {},
   "outputs": [
    {
     "name": "stdout",
     "output_type": "stream",
     "text": [
      "Response: >?\n"
     ]
    }
   ],
   "source": [
    "#Reading response from serial port\n",
    "response = ser.readline().decode().strip()\n",
    "print(f\"Response: {response}\")"
   ]
  },
  {
   "cell_type": "code",
   "execution_count": null,
   "id": "137f993f",
   "metadata": {},
   "outputs": [],
   "source": [
    "#Testing UTF-8 encoding\n",
    "'W'.encode('UTF-8').hex()"
   ]
  },
  {
   "cell_type": "markdown",
   "id": "1544f636",
   "metadata": {},
   "source": [
    "## Testing for a procedual way of constructing the command\n",
    "### And deconstructing a response\n",
    "import re\n",
    "\n",
    "alt = 123.11\n",
    "azi = 6.9\n",
    "alt = int(alt)\n",
    "azi = int(azi)\n",
    "command = f'W{alt:03d} {azi:03d}\\r\\n'\n",
    "print(command)\n",
    "\n",
    "response = \"125.002658 5.6\"\n",
    "altAzi = re.findall(\"\\d+\\.\\d+\", response)\n",
    "alt = float(altAzi[0])\n",
    "azi = float(altAzi[1])\n",
    "print (alt, azi, alt+azi)"
   ]
  },
  {
   "cell_type": "code",
   "execution_count": 2,
   "id": "00ead921",
   "metadata": {},
   "outputs": [
    {
     "name": "stdout",
     "output_type": "stream",
     "text": [
      "Current position: AZ=050 EL=070\n"
     ]
    }
   ],
   "source": [
    "ser.reset_input_buffer()\n",
    "# Reading current position. Test running it during rotor movement \n",
    "ser.write(b'C2\\r\\n')\n",
    "\n",
    "r = ser.readline()\n",
    "#print(r)\n",
    "response = r.decode().strip()\n",
    "print(f\"Current position: {response}\")"
   ]
  },
  {
   "cell_type": "code",
   "execution_count": 47,
   "id": "4558b099",
   "metadata": {},
   "outputs": [],
   "source": [
    "#ser.in_waiting\n",
    "#ser.out_waiting\n",
    "x = ser.write(b'W120 070\\r\\n')"
   ]
  },
  {
   "cell_type": "code",
   "execution_count": 67,
   "id": "8f31a60f",
   "metadata": {
    "scrolled": true
   },
   "outputs": [
    {
     "name": "stdout",
     "output_type": "stream",
     "text": [
      "10\n",
      "Current position: \n",
      "Current position: AZ=118 EL=070\n",
      "Current position: AZ=116 EL=070\n",
      "Current position: AZ=113 EL=070\n",
      "Current position: AZ=111 EL=070\n"
     ]
    }
   ],
   "source": [
    "#ser.reset_input_buffer()\n",
    "# Writing azi alt coords\n",
    "x = ser.write(b'W050 070\\r\\n')\n",
    "# The output of the serial.write() method is an integer representing the number of bytes written to the serial port\n",
    "print(x)\n",
    "\n",
    "for i in range(5):\n",
    "    ser.reset_input_buffer()\n",
    "    ser.write(b'C2\\r\\n')\n",
    "    r = ser.readline().decode().strip()\n",
    "    print(f\"Current position: {r}\")\n",
    "    time.sleep(1.5)"
   ]
  },
  {
   "cell_type": "code",
   "execution_count": 68,
   "id": "f5857be1",
   "metadata": {},
   "outputs": [
    {
     "data": {
      "text/plain": [
       "'COM6'"
      ]
     },
     "execution_count": 68,
     "metadata": {},
     "output_type": "execute_result"
    }
   ],
   "source": [
    "# Stop any ongoing commands\n",
    "#ser.write(b'S\\r\\n')\n",
    "ser.name"
   ]
  },
  {
   "cell_type": "code",
   "execution_count": 31,
   "id": "bee75322",
   "metadata": {},
   "outputs": [
    {
     "name": "stdout",
     "output_type": "stream",
     "text": [
      "Current position: \n"
     ]
    }
   ],
   "source": [
    "# Reading the current position of the rotator\n",
    "ser.write(b'B\\r\\n')\n",
    "response = ser.readline().decode().strip()\n",
    "print(f\"Current position: {response}\")"
   ]
  },
  {
   "cell_type": "code",
   "execution_count": 57,
   "id": "5d94e30a",
   "metadata": {},
   "outputs": [
    {
     "name": "stdout",
     "output_type": "stream",
     "text": [
      "Current position: \n"
     ]
    }
   ],
   "source": [
    "response = ser.readline().decode().strip()\n",
    "print(f\"Current position: {response}\")"
   ]
  },
  {
   "cell_type": "code",
   "execution_count": 3,
   "id": "92a9af2a",
   "metadata": {},
   "outputs": [],
   "source": [
    "# Closing the serial connection\n",
    "ser.close()"
   ]
  },
  {
   "cell_type": "code",
   "execution_count": null,
   "id": "2693ac10",
   "metadata": {},
   "outputs": [],
   "source": []
  },
  {
   "cell_type": "code",
   "execution_count": null,
   "id": "84ef7804",
   "metadata": {},
   "outputs": [],
   "source": []
  }
 ],
 "metadata": {
  "kernelspec": {
   "display_name": "Python 3 (ipykernel)",
   "language": "python",
   "name": "python3"
  },
  "language_info": {
   "codemirror_mode": {
    "name": "ipython",
    "version": 3
   },
   "file_extension": ".py",
   "mimetype": "text/x-python",
   "name": "python",
   "nbconvert_exporter": "python",
   "pygments_lexer": "ipython3",
   "version": "3.9.16"
  }
 },
 "nbformat": 4,
 "nbformat_minor": 5
}
